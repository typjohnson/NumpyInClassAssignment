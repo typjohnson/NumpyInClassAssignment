{
 "cells": [
  {
   "cell_type": "markdown",
   "id": "b079616b",
   "metadata": {},
   "source": [
    "# Numpy- inclass assignment \n",
    "## Submit your work using GitHub to Moodle"
   ]
  },
  {
   "cell_type": "markdown",
   "id": "82127cdd",
   "metadata": {},
   "source": [
    "### Generate a random numpy array for Month of October where the highest temperature varies between 48-81 degree Farenheit\n",
    "- Keep in mind the length of the month\n",
    "- set a random seed of 1 for regenerate\n",
    "- Display the numpy array named `Temp_O` and find out the minimum and maximum temperature of month"
   ]
  },
  {
   "cell_type": "code",
   "execution_count": 2,
   "id": "8c94eaf9",
   "metadata": {},
   "outputs": [],
   "source": [
    "import numpy as np"
   ]
  },
  {
   "cell_type": "code",
   "execution_count": 3,
   "id": "2fb52e4d",
   "metadata": {},
   "outputs": [
    {
     "name": "stdout",
     "output_type": "stream",
     "text": [
      "Max is 80 and min is 48\n"
     ]
    }
   ],
   "source": [
    "np.random.seed(1)\n",
    "tempO = np.random.randint(48,81, size = 31)\n",
    "tempO\n",
    "print(f'Max is {np.max(tempO)} and min is {np.min(tempO)}')"
   ]
  },
  {
   "cell_type": "code",
   "execution_count": null,
   "id": "a5d14159",
   "metadata": {},
   "outputs": [],
   "source": []
  },
  {
   "cell_type": "markdown",
   "id": "9ce763ee",
   "metadata": {},
   "source": [
    "### Load the numpy file `Temp_December` and store it to a variable named Temp_D"
   ]
  },
  {
   "cell_type": "code",
   "execution_count": 4,
   "id": "fbfa1c12",
   "metadata": {},
   "outputs": [],
   "source": [
    "tempD = np.load('DecemberTemp_Celsius.npy')"
   ]
  },
  {
   "cell_type": "code",
   "execution_count": 5,
   "id": "bd2c01da",
   "metadata": {},
   "outputs": [
    {
     "data": {
      "text/plain": [
       "array([  7.,  10.,  -7.,  -9.,  -9.,  -8., -11.,  -6., -14.,  -5., -13.,\n",
       "        -7., -10.,  11., -11.,   0.,  14.,  -3.,   7.,  -4.,  -3.,  -8.,\n",
       "         9.,   2.,   2.,  -6.,  14., -12.,  -1.,  -1.,   9.])"
      ]
     },
     "execution_count": 5,
     "metadata": {},
     "output_type": "execute_result"
    }
   ],
   "source": [
    "tempD"
   ]
  },
  {
   "cell_type": "code",
   "execution_count": null,
   "id": "e8fc4e1e",
   "metadata": {},
   "outputs": [],
   "source": []
  },
  {
   "cell_type": "markdown",
   "id": "a9847e78",
   "metadata": {},
   "source": [
    "### Compare two numpy array - Temp_O and Temp_D\n",
    "- Elementwise\n",
    "- Arraywise"
   ]
  },
  {
   "cell_type": "code",
   "execution_count": 6,
   "id": "a926818f",
   "metadata": {},
   "outputs": [
    {
     "data": {
      "text/plain": [
       "array([ True,  True,  True,  True,  True,  True,  True,  True,  True,\n",
       "        True,  True,  True,  True,  True,  True,  True,  True,  True,\n",
       "        True,  True,  True,  True,  True,  True,  True,  True,  True,\n",
       "        True,  True,  True,  True])"
      ]
     },
     "execution_count": 6,
     "metadata": {},
     "output_type": "execute_result"
    }
   ],
   "source": [
    "tempO > tempD #oct temp is more than dec temp for each day"
   ]
  },
  {
   "cell_type": "code",
   "execution_count": 7,
   "id": "a4dee81c",
   "metadata": {},
   "outputs": [
    {
     "data": {
      "text/plain": [
       "array([False, False, False, False, False, False, False, False, False,\n",
       "       False, False, False, False, False, False, False, False, False,\n",
       "       False, False, False, False, False, False, False, False, False,\n",
       "       False, False, False, False])"
      ]
     },
     "execution_count": 7,
     "metadata": {},
     "output_type": "execute_result"
    }
   ],
   "source": [
    "tempO == tempD"
   ]
  },
  {
   "cell_type": "code",
   "execution_count": null,
   "id": "320c046b",
   "metadata": {},
   "outputs": [],
   "source": []
  },
  {
   "cell_type": "markdown",
   "id": "0a88755c",
   "metadata": {},
   "source": [
    "### Find out the:\n",
    "- Average temperature\n",
    "- Standard deviation\n",
    "- Varience\n",
    "- Minimum temp\n",
    "- Maximum temp\n",
    "- Median\n",
    "#### for Month of December"
   ]
  },
  {
   "cell_type": "code",
   "execution_count": 8,
   "id": "a2f7560c",
   "metadata": {},
   "outputs": [
    {
     "data": {
      "text/plain": [
       "14.0"
      ]
     },
     "execution_count": 8,
     "metadata": {},
     "output_type": "execute_result"
    }
   ],
   "source": [
    "np.max(tempD)"
   ]
  },
  {
   "cell_type": "code",
   "execution_count": 9,
   "id": "00e36e9f",
   "metadata": {},
   "outputs": [
    {
     "data": {
      "text/plain": [
       "-4.0"
      ]
     },
     "execution_count": 9,
     "metadata": {},
     "output_type": "execute_result"
    }
   ],
   "source": [
    "np.median(tempD)"
   ]
  },
  {
   "cell_type": "code",
   "execution_count": 10,
   "id": "8dd8d28b",
   "metadata": {},
   "outputs": [
    {
     "data": {
      "text/plain": [
       "69"
      ]
     },
     "execution_count": 10,
     "metadata": {},
     "output_type": "execute_result"
    }
   ],
   "source": [
    "round(tempD.var())"
   ]
  },
  {
   "cell_type": "code",
   "execution_count": 11,
   "id": "6f8fa8b6",
   "metadata": {},
   "outputs": [
    {
     "data": {
      "text/plain": [
       "8"
      ]
     },
     "execution_count": 11,
     "metadata": {},
     "output_type": "execute_result"
    }
   ],
   "source": [
    "round(np.std(tempD))"
   ]
  },
  {
   "cell_type": "code",
   "execution_count": 12,
   "id": "3aae174b",
   "metadata": {},
   "outputs": [
    {
     "data": {
      "text/plain": [
       "-2"
      ]
     },
     "execution_count": 12,
     "metadata": {},
     "output_type": "execute_result"
    }
   ],
   "source": [
    "round(np.average(tempD))"
   ]
  },
  {
   "cell_type": "markdown",
   "id": "a8bfea7e",
   "metadata": {},
   "source": [
    "### Plot the distribution of December Temperature using Matplotlib\n",
    "- add title and create proper labels"
   ]
  },
  {
   "cell_type": "code",
   "execution_count": 13,
   "id": "5e8310b6",
   "metadata": {},
   "outputs": [],
   "source": [
    "import matplotlib.pyplot as plt"
   ]
  },
  {
   "cell_type": "code",
   "execution_count": 16,
   "id": "f76d25ca",
   "metadata": {},
   "outputs": [
    {
     "data": {
      "text/plain": [
       "Text(0.5, 0, 'temperature (farenheit)')"
      ]
     },
     "execution_count": 16,
     "metadata": {},
     "output_type": "execute_result"
    },
    {
     "data": {
      "image/png": "[encoded data removed]",
      "text/plain": [
       "<Figure size 640x480 with 1 Axes>"
      ]
     },
     "metadata": {},
     "output_type": "display_data"
    }
   ],
   "source": [
    "plt.hist(tempD)\n",
    "plt.title('december temp')\n",
    "plt.ylabel('frequency')\n",
    "plt.xlabel('temperature (farenheit)')"
   ]
  },
  {
   "cell_type": "markdown",
   "id": "4ac618ad",
   "metadata": {},
   "source": [
    "### Convert the Temp_D to Celsius and store it to a variable names Temp_C. \n",
    "- Round off the result\n",
    "- Save it to a numpy file called DecemberTemp_Celsius"
   ]
  },
  {
   "cell_type": "code",
   "execution_count": 21,
   "id": "6942dd4c",
   "metadata": {},
   "outputs": [
    {
     "data": {
      "text/plain": [
       "array([-13.89, -12.22, -21.67, -22.78, -22.78, -22.22, -23.89, -21.11,\n",
       "       -25.56, -20.56, -25.  , -21.67, -23.33, -11.67, -23.89, -17.78,\n",
       "       -10.  , -19.44, -13.89, -20.  , -19.44, -22.22, -12.78, -16.67,\n",
       "       -16.67, -21.11, -10.  , -24.44, -18.33, -18.33, -12.78])"
      ]
     },
     "execution_count": 21,
     "metadata": {},
     "output_type": "execute_result"
    }
   ],
   "source": [
    "tempC = np.around((np.array(tempD) - 32) * 5/9, decimals = 2)\n",
    "tempC"
   ]
  },
  {
   "cell_type": "code",
   "execution_count": 23,
   "id": "6a29a9d9",
   "metadata": {},
   "outputs": [],
   "source": [
    "np.save('DecemberTemp_Celsius.npy', tempC)"
   ]
  },
  {
   "cell_type": "code",
   "execution_count": 24,
   "id": "4f1ae077",
   "metadata": {},
   "outputs": [],
   "source": [
    "test = np.load('DecemberTemp_Celsius.npy')"
   ]
  },
  {
   "cell_type": "code",
   "execution_count": 25,
   "id": "331feca4",
   "metadata": {},
   "outputs": [
    {
     "data": {
      "text/plain": [
       "array([-13.89, -12.22, -21.67, -22.78, -22.78, -22.22, -23.89, -21.11,\n",
       "       -25.56, -20.56, -25.  , -21.67, -23.33, -11.67, -23.89, -17.78,\n",
       "       -10.  , -19.44, -13.89, -20.  , -19.44, -22.22, -12.78, -16.67,\n",
       "       -16.67, -21.11, -10.  , -24.44, -18.33, -18.33, -12.78])"
      ]
     },
     "execution_count": 25,
     "metadata": {},
     "output_type": "execute_result"
    }
   ],
   "source": [
    "test"
   ]
  }
 ],
 "metadata": {
  "kernelspec": {
   "display_name": "Python 3 (ipykernel)",
   "language": "python",
   "name": "python3"
  },
  "language_info": {
   "codemirror_mode": {
    "name": "ipython",
    "version": 3
   },
   "file_extension": ".py",
   "mimetype": "text/x-python",
   "name": "python",
   "nbconvert_exporter": "python",
   "pygments_lexer": "ipython3",
   "version": "3.9.13"
  }
 },
 "nbformat": 4,
 "nbformat_minor": 5
}
